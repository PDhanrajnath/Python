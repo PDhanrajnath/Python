{
 "cells": [
  {
   "cell_type": "code",
   "execution_count": 1,
   "id": "83c32dfb",
   "metadata": {},
   "outputs": [
    {
     "name": "stdout",
     "output_type": "stream",
     "text": [
      "Hello, world!\n"
     ]
    }
   ],
   "source": [
    "print('Hello, world!')"
   ]
  },
  {
   "cell_type": "code",
   "execution_count": 3,
   "id": "57873060",
   "metadata": {},
   "outputs": [
    {
     "name": "stdout",
     "output_type": "stream",
     "text": [
      "HelloWorld\n",
      "Hello World\n",
      "Hello, World!\n"
     ]
    }
   ],
   "source": [
    "print(\"Hello\",end=\"\")\n",
    "print(\"World\")\n",
    "print(\"Hello\",end=\" \")\n",
    "print(\"World\")\n",
    "print(\"Hello, World!\") #By default end =\"\\n\" (new line)"
   ]
  },
  {
   "cell_type": "code",
   "execution_count": null,
   "id": "e99ce9ac",
   "metadata": {},
   "outputs": [],
   "source": []
  }
 ],
 "metadata": {
  "kernelspec": {
   "display_name": "Python 3 (ipykernel)",
   "language": "python",
   "name": "python3"
  },
  "language_info": {
   "codemirror_mode": {
    "name": "ipython",
    "version": 3
   },
   "file_extension": ".py",
   "mimetype": "text/x-python",
   "name": "python",
   "nbconvert_exporter": "python",
   "pygments_lexer": "ipython3",
   "version": "3.8.10"
  }
 },
 "nbformat": 4,
 "nbformat_minor": 5
}
