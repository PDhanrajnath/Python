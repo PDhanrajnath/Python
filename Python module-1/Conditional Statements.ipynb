{
 "cells": [
  {
   "cell_type": "markdown",
   "id": "12fea302",
   "metadata": {},
   "source": [
    "# Conditional Statements"
   ]
  },
  {
   "cell_type": "code",
   "execution_count": 3,
   "id": "39973917",
   "metadata": {},
   "outputs": [
    {
     "name": "stdout",
     "output_type": "stream",
     "text": [
      "The number is equal to 5\n"
     ]
    }
   ],
   "source": [
    "num = 5\n",
    "\n",
    "if (num == 5):  # The condition is true\n",
    "    print(\"The number is equal to 5\")  # The code is executed\n",
    "\n",
    "if num > 5:  # The condtion is false\n",
    "    print(\"The number is greater than 5\")  # The code is not executed\n",
    "    "
   ]
  },
  {
   "cell_type": "code",
   "execution_count": 4,
   "id": "8d078476",
   "metadata": {},
   "outputs": [
    {
     "name": "stdout",
     "output_type": "stream",
     "text": [
      "The number is a multiple of 2, 3, and 4\n",
      "The number is a multiple of 5 and/or 6\n"
     ]
    }
   ],
   "source": [
    "num = 12\n",
    "\n",
    "if num % 2 == 0 and num % 3 == 0 and num % 4 == 0:\n",
    "    # Only works when num is a multiple of 2, 3, and 4\n",
    "    print(\"The number is a multiple of 2, 3, and 4\")\n",
    "\n",
    "if (num % 5 == 0 or num % 6 == 0):\n",
    "    # Only works when num is either a multiple of 5 or 6\n",
    "    print(\"The number is a multiple of 5 and/or 6\")"
   ]
  },
  {
   "cell_type": "code",
   "execution_count": 5,
   "id": "463bbb3a",
   "metadata": {},
   "outputs": [
    {
     "name": "stdout",
     "output_type": "stream",
     "text": [
      "The number is in the 60-70 range\n"
     ]
    }
   ],
   "source": [
    "num = 63\n",
    "\n",
    "if num >= 0 and num <= 100:\n",
    "    if num >= 50 and num <= 75:\n",
    "        if num >= 60 and num <= 70:\n",
    "            print(\"The number is in the 60-70 range\")"
   ]
  },
  {
   "cell_type": "code",
   "execution_count": 6,
   "id": "974ec64f",
   "metadata": {},
   "outputs": [
    {
     "name": "stdout",
     "output_type": "stream",
     "text": [
      "20\n",
      "100\n"
     ]
    }
   ],
   "source": [
    "num = 10\n",
    "if num > 5:\n",
    "    num = 20  # Assigning a new value to num\n",
    "    new_num = num * 5  # Creating a new value called newNum\n",
    "\n",
    "# The if condition ends, but the changes made inside it remain\n",
    "print(num)\n",
    "print(new_num)"
   ]
  },
  {
   "cell_type": "code",
   "execution_count": 7,
   "id": "442a53ea",
   "metadata": {},
   "outputs": [
    {
     "name": "stdout",
     "output_type": "stream",
     "text": [
      "The number is greater than 50\n"
     ]
    }
   ],
   "source": [
    "num = 60\n",
    "\n",
    "if num <= 50:\n",
    "    print(\"The number is less than or equal to 50\")\n",
    "else:\n",
    "    print(\"The number is greater than 50\")"
   ]
  },
  {
   "cell_type": "code",
   "execution_count": 8,
   "id": "05301963",
   "metadata": {},
   "outputs": [
    {
     "name": "stdout",
     "output_type": "stream",
     "text": [
      "The number is greater than 50\n"
     ]
    }
   ],
   "source": [
    "num = 60\n",
    "\n",
    "if num <= 50:\n",
    "    print(\"The number is less than or equal to 50\")\n",
    "\n",
    "if num > 50:\n",
    "    print(\"The number is greater than 50\")"
   ]
  },
  {
   "cell_type": "code",
   "execution_count": 11,
   "id": "2855b797",
   "metadata": {},
   "outputs": [
    {
     "name": "stdout",
     "output_type": "stream",
     "text": [
      "The number is greater than 50\n"
     ]
    }
   ],
   "source": [
    "num = 60\n",
    "\n",
    "output = \"The number is less than or equal to 50\" \\\n",
    "    if num <= 50 else \"The number is greater than 50\"\n",
    "\n",
    "print(output)"
   ]
  },
  {
   "cell_type": "code",
   "execution_count": 12,
   "id": "c0dbb4fc",
   "metadata": {},
   "outputs": [
    {
     "name": "stdout",
     "output_type": "stream",
     "text": [
      "Stop\n"
     ]
    }
   ],
   "source": [
    "light = \"Red\"\n",
    "\n",
    "if light == \"Green\":\n",
    "    print(\"Go\")\n",
    "\n",
    "elif light == \"Yellow\":\n",
    "    print(\"Caution\")\n",
    "\n",
    "elif light == \"Red\":\n",
    "    print(\"Stop\")\n",
    "\n",
    "else:\n",
    "    print(\"Incorrect light signal\")"
   ]
  },
  {
   "cell_type": "code",
   "execution_count": 13,
   "id": "9f8b38bd",
   "metadata": {},
   "outputs": [
    {
     "name": "stdout",
     "output_type": "stream",
     "text": [
      "Five\n"
     ]
    }
   ],
   "source": [
    "num = 5\n",
    "\n",
    "if num == 0:\n",
    "    print(\"Zero\")\n",
    "elif num == 1:\n",
    "    print(\"One\")\n",
    "elif num == 2:\n",
    "    print(\"Two\")\n",
    "elif num == 3:\n",
    "    print(\"Three\")\n",
    "elif num == 4:\n",
    "    print(\"Four\")\n",
    "elif num == 5:\n",
    "    print(\"Five\")\n",
    "elif num == 6:\n",
    "    print(\"Six\")\n",
    "elif num == 7:\n",
    "    print(\"Seven\")\n",
    "elif num == 8:\n",
    "    print(\"Eight\")\n",
    "elif num == 9:\n",
    "    print(\"Nine\")"
   ]
  },
  {
   "cell_type": "code",
   "execution_count": 14,
   "id": "999e7b97",
   "metadata": {},
   "outputs": [
    {
     "name": "stdout",
     "output_type": "stream",
     "text": [
      "The number is greater than 5\n",
      "The number is even\n"
     ]
    }
   ],
   "source": [
    "num = 10\n",
    "\n",
    "if num > 5:\n",
    "    print(\"The number is greater than 5\")\n",
    "\n",
    "if num % 2 == 0:\n",
    "    print(\"The number is even\")\n",
    "\n",
    "if not num % 2 == 0:\n",
    "    print(\"The number is odd\")"
   ]
  },
  {
   "cell_type": "code",
   "execution_count": 15,
   "id": "5c18fe35",
   "metadata": {},
   "outputs": [
    {
     "name": "stdout",
     "output_type": "stream",
     "text": [
      "The number is greater than 5\n"
     ]
    }
   ],
   "source": [
    "num = 10\n",
    "\n",
    "if num > 5:\n",
    "    print(\"The number is greater than 5\")\n",
    "\n",
    "elif num % 2 == 0:\n",
    "    print(\"The number is even\")\n",
    "\n",
    "else:\n",
    "    print(\"The number is odd and less than or equal to 5\")"
   ]
  },
  {
   "cell_type": "code",
   "execution_count": 17,
   "id": "6843d97a",
   "metadata": {},
   "outputs": [
    {
     "name": "stdout",
     "output_type": "stream",
     "text": [
      "200\n"
     ]
    }
   ],
   "source": [
    "num1 = 10\n",
    "num2 = 20\n",
    "result = 4000\n",
    "\n",
    "if (num1 > 50 or not num2 <= 5):\n",
    "    result = num1 * num2\n",
    "else:\n",
    "    result = num1 + num2\n",
    "print(result)"
   ]
  },
  {
   "cell_type": "markdown",
   "id": "3875884e",
   "metadata": {},
   "source": [
    "# Problem Statement\n",
    "   - In this challenge, you must discount a price according to its value.\n",
    "\n",
    "   - If the price is 300 or above, there will be a 30% discount.\n",
    "\n",
    "   - If the price is between 200 and 300 (200 inclusive), there will be a 20% discount.\n",
    "\n",
    "   - If the price is between 100 and 200 (100 inclusive), there will be a 10% discount.\n",
    "\n",
    "   - If the price is less than 100, there will be a 5% discount.\n",
    "\n",
    "   - If the price is negative, there will be no discount.\n",
    "\n"
   ]
  },
  {
   "cell_type": "code",
   "execution_count": 18,
   "id": "4d40d19c",
   "metadata": {},
   "outputs": [
    {
     "name": "stdout",
     "output_type": "stream",
     "text": [
      "200.0\n"
     ]
    }
   ],
   "source": [
    "price = 250\n",
    "\n",
    "if price >= 300:\n",
    "    price *= 0.7  # (1 - 0.3)\n",
    "elif price >= 200:\n",
    "    price *= 0.8  # (1 - 0.2)\n",
    "elif price >= 100:\n",
    "    price *= 0.9  # (1 - 0.1)\n",
    "elif price < 100 and price >= 0:\n",
    "    price *= 0.95  # (1 - 0.05)\n",
    "\n",
    "print(price)"
   ]
  },
  {
   "cell_type": "code",
   "execution_count": null,
   "id": "3d19fdbf",
   "metadata": {},
   "outputs": [],
   "source": []
  }
 ],
 "metadata": {
  "kernelspec": {
   "display_name": "Python 3 (ipykernel)",
   "language": "python",
   "name": "python3"
  },
  "language_info": {
   "codemirror_mode": {
    "name": "ipython",
    "version": 3
   },
   "file_extension": ".py",
   "mimetype": "text/x-python",
   "name": "python",
   "nbconvert_exporter": "python",
   "pygments_lexer": "ipython3",
   "version": "3.8.10"
  }
 },
 "nbformat": 4,
 "nbformat_minor": 5
}
