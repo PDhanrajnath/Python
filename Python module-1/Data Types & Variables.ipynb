{
 "cells": [
  {
   "cell_type": "markdown",
   "id": "5fcc0bf7",
   "metadata": {},
   "source": [
    "# Python’s Data Types\n",
    "\n",
    " - Numbers, Strings & Booleans"
   ]
  },
  {
   "cell_type": "markdown",
   "id": "2d04bcd0",
   "metadata": {},
   "source": [
    "### Naming Convention For Variable\n",
    "- camelCase, PascalCase & snake_case"
   ]
  },
  {
   "cell_type": "code",
   "execution_count": 2,
   "id": "87bc7230",
   "metadata": {},
   "outputs": [
    {
     "name": "stdout",
     "output_type": "stream",
     "text": [
      "Snake Case John\n",
      "Pascal Case John\n",
      "Camel Case John\n"
     ]
    }
   ],
   "source": [
    "my_variable_name = \"John\"\n",
    "print(\"Snake Case\",my_variable_name)\n",
    "\n",
    "MyVariableName = \"John\"\n",
    "print(\"Pascal Case\",MyVariableName)\n",
    "\n",
    "myVariableName = \"John\"\n",
    "print(\"Camel Case\",myVariableName)"
   ]
  },
  {
   "cell_type": "code",
   "execution_count": 3,
   "id": "5eb35d91",
   "metadata": {},
   "outputs": [
    {
     "name": "stdout",
     "output_type": "stream",
     "text": [
      "<class 'str'> 3\n",
      "<class 'int'> 3\n",
      "<class 'float'> 3.0\n"
     ]
    }
   ],
   "source": [
    "x = str(3)    # x will be '3'\n",
    "y = int('3')    # y will be 3\n",
    "z = float(3)  # z will be 3.0\n",
    "\n",
    "# x = 4       # x is of type int\n",
    "# x = \"Sally\" # x is now of type str\n",
    "# print(x,y,z)\n",
    "\n",
    "print(type(x),x)\n",
    "print(type(y),y)\n",
    "print(type(z),z)"
   ]
  },
  {
   "cell_type": "code",
   "execution_count": 7,
   "id": "f591eeee",
   "metadata": {},
   "outputs": [
    {
     "name": "stdout",
     "output_type": "stream",
     "text": [
      "Orange, Banana, Cherry\n",
      "Orange, Orange, Orange\n",
      "apple, banana, cherry\n",
      "Python is awesome\n",
      "3 words\n"
     ]
    }
   ],
   "source": [
    "x, y, z = \"Orange\", \"Banana\", \"Cherry\"\n",
    "print(x,end=\", \")\n",
    "print(y,end=\", \")\n",
    "print(z)\n",
    "\n",
    "x = y = z = \"Orange\"\n",
    "print(x,end=\", \")\n",
    "print(y,end=\", \")\n",
    "print(z)\n",
    "\n",
    "fruits = [\"apple\", \"banana\", \"cherry\"]\n",
    "x, y, z = fruits\n",
    "print(x,end=\", \")\n",
    "print(y,end=\", \")\n",
    "print(z)\n",
    "\n",
    "x = \"Python is awesome\"\n",
    "print(x)\n",
    "print(len(x.split(\" \")),\"words\")"
   ]
  },
  {
   "cell_type": "code",
   "execution_count": 11,
   "id": "88b066b7",
   "metadata": {},
   "outputs": [
    {
     "name": "stdout",
     "output_type": "stream",
     "text": [
      "Python is fantastic\n"
     ]
    }
   ],
   "source": [
    "# x = \"awesome\"\n",
    "\n",
    "# def myfunc():\n",
    "#   print(\"Python is \" + x)\n",
    "\n",
    "# myfunc()\n",
    "\n",
    "\n",
    "# x = \"awesome\"\n",
    "\n",
    "# def myfunc():\n",
    "#   x = \"fantastic\"\n",
    "#   print(\"Python is \" + x)\n",
    "\n",
    "# myfunc()\n",
    "\n",
    "# print(\"Python is \" + x)\n",
    "\n",
    "# def myfunc():\n",
    "#   global x\n",
    "#   x = \"fantastic\"\n",
    "\n",
    "# myfunc()\n",
    "\n",
    "# print(\"Python is \" + x)\n",
    "\n",
    "x = \"awesome\"\n",
    "\n",
    "def myfunc():\n",
    "  global x\n",
    "  x = \"fantastic\"\n",
    "\n",
    "myfunc()\n",
    "\n",
    "print(\"Python is \" + x)"
   ]
  },
  {
   "cell_type": "code",
   "execution_count": 12,
   "id": "1fb59630",
   "metadata": {},
   "outputs": [
    {
     "name": "stdout",
     "output_type": "stream",
     "text": [
      "fantastic\n"
     ]
    }
   ],
   "source": [
    "print(x)"
   ]
  },
  {
   "cell_type": "markdown",
   "id": "ca4cd2a7",
   "metadata": {},
   "source": [
    "## Python Numbers\n",
    "- Integers\n",
    "- Floating point numbers\n",
    "- Complex numbers"
   ]
  },
  {
   "cell_type": "code",
   "execution_count": 15,
   "id": "c00a89f3",
   "metadata": {},
   "outputs": [
    {
     "name": "stdout",
     "output_type": "stream",
     "text": [
      "10\n",
      "-3000\n",
      "123456789\n",
      "-16000\n"
     ]
    }
   ],
   "source": [
    "print(10)  # A positive integer\n",
    "print(-3000)  # A negative integer\n",
    "\n",
    "num = 123456789  # Assigning an integer to a variable\n",
    "print(num)\n",
    "num = -16000  # Assigning a new integer\n",
    "print(num)\n"
   ]
  },
  {
   "cell_type": "code",
   "execution_count": 16,
   "id": "fbc028c8",
   "metadata": {},
   "outputs": [
    {
     "name": "stdout",
     "output_type": "stream",
     "text": [
      "1.0000000000523146\n",
      "-85.6701\n",
      "1.23456789\n"
     ]
    }
   ],
   "source": [
    "print(1.00000000005231456)  # A positive float\n",
    "print(-85.6701)  # A negative float\n",
    "\n",
    "flt_pt = 1.23456789\n",
    "print(flt_pt)"
   ]
  },
  {
   "cell_type": "code",
   "execution_count": 17,
   "id": "04182a67",
   "metadata": {},
   "outputs": [
    {
     "name": "stdout",
     "output_type": "stream",
     "text": [
      "(10+20j)\n",
      "(2.5-18.2j)\n",
      "2j\n",
      "(2+0j)\n"
     ]
    }
   ],
   "source": [
    "print(complex(10, 20))  # Represents the complex number (10 + 20j)\n",
    "print(complex(2.5, -18.2))  # Represents the complex number (2.5 - 18.2j)\n",
    "\n",
    "complex_1 = complex(0, 2)\n",
    "complex_2 = complex(2, 0)\n",
    "print(complex_1)\n",
    "print(complex_2)"
   ]
  },
  {
   "cell_type": "raw",
   "id": "2948da91",
   "metadata": {},
   "source": [
    "Note: In normal mathematics, the imaginary part of a complex number is denoted by i. However, in the code above, it is denoted by j. This is because Python follows the electrical engineering convention which uses j instead of i. Don’t let that confuse you."
   ]
  },
  {
   "cell_type": "code",
   "execution_count": 19,
   "id": "79e79543",
   "metadata": {},
   "outputs": [
    {
     "name": "stdout",
     "output_type": "stream",
     "text": [
      "True\n",
      "False\n"
     ]
    }
   ],
   "source": [
    "print(True)\n",
    "\n",
    "f_bool = False\n",
    "print(f_bool)"
   ]
  },
  {
   "cell_type": "code",
   "execution_count": 20,
   "id": "d4c1b965",
   "metadata": {},
   "outputs": [
    {
     "name": "stdout",
     "output_type": "stream",
     "text": [
      "Harry Potter!\n",
      "Game of Thrones...\n",
      "$\n",
      "\n",
      "Triple quotes allows\n",
      "multi-line string.\n"
     ]
    }
   ],
   "source": [
    "print(\"Harry Potter!\")  # Double quotation marks\n",
    "\n",
    "got = 'Game of Thrones...'  # Single quotation marks\n",
    "print(got)\n",
    "print(\"$\")  # Single character\n",
    "\n",
    "empty = \"\"\n",
    "print(empty)  # Just prints an empty line\n",
    "\n",
    "multiple_lines = '''Triple quotes allows\n",
    "multi-line string.'''\n",
    "print(multiple_lines)"
   ]
  },
  {
   "cell_type": "code",
   "execution_count": 21,
   "id": "39ca78ea",
   "metadata": {},
   "outputs": [
    {
     "name": "stdout",
     "output_type": "stream",
     "text": [
      "11\n"
     ]
    }
   ],
   "source": [
    "random_string = \"I am Batman\"  # 11 characters\n",
    "print(len(random_string))"
   ]
  },
  {
   "cell_type": "code",
   "execution_count": 24,
   "id": "f220d832",
   "metadata": {},
   "outputs": [
    {
     "name": "stdout",
     "output_type": "stream",
     "text": [
      "B\n",
      " \n",
      "e\n"
     ]
    }
   ],
   "source": [
    "batman = \"Bruce Wayne\"\n",
    "\n",
    "first = batman[0]  # Accessing the first character\n",
    "print(first)\n",
    "\n",
    "space = batman[5]  # Accessing the empty space in the string\n",
    "print(space)\n",
    "\n",
    "last = batman[len(batman) - 1]\n",
    "print(last)\n",
    "# The following will produce an error since the index is out of bounds\n",
    "# err = batman[len(batman)]\n"
   ]
  },
  {
   "cell_type": "code",
   "execution_count": 25,
   "id": "bba3382d",
   "metadata": {},
   "outputs": [
    {
     "name": "stdout",
     "output_type": "stream",
     "text": [
      "e\n",
      "W\n"
     ]
    }
   ],
   "source": [
    "batman = \"Bruce Wayne\"\n",
    "print(batman[-1])  # Corresponds to batman[10]\n",
    "print(batman[-5])  # Corresponds to batman[6]"
   ]
  },
  {
   "cell_type": "code",
   "execution_count": 28,
   "id": "de53b748",
   "metadata": {},
   "outputs": [
    {
     "name": "stdout",
     "output_type": "stream",
     "text": [
      "Zemoso technologies\n",
      "seigolonhcet osomeZ\n"
     ]
    }
   ],
   "source": [
    "a=\"Zemoso technologies\"\n",
    "print(a)\n",
    "print(a[::-1]) # Reversing the string"
   ]
  },
  {
   "cell_type": "code",
   "execution_count": 29,
   "id": "cdee49f9",
   "metadata": {
    "scrolled": false
   },
   "outputs": [
    {
     "ename": "TypeError",
     "evalue": "'str' object does not support item assignment",
     "output_type": "error",
     "traceback": [
      "\u001b[0;31m---------------------------------------------------------------------------\u001b[0m",
      "\u001b[0;31mTypeError\u001b[0m                                 Traceback (most recent call last)",
      "Input \u001b[0;32mIn [29]\u001b[0m, in \u001b[0;36m<cell line: 2>\u001b[0;34m()\u001b[0m\n\u001b[1;32m      1\u001b[0m string \u001b[38;5;241m=\u001b[39m \u001b[38;5;124m\"\u001b[39m\u001b[38;5;124mImmutability\u001b[39m\u001b[38;5;124m\"\u001b[39m\n\u001b[0;32m----> 2\u001b[0m string[\u001b[38;5;241m0\u001b[39m] \u001b[38;5;241m=\u001b[39m \u001b[38;5;124m'\u001b[39m\u001b[38;5;124mO\u001b[39m\u001b[38;5;124m'\u001b[39m\n",
      "\u001b[0;31mTypeError\u001b[0m: 'str' object does not support item assignment"
     ]
    }
   ],
   "source": [
    "string = \"Immutability\"\n",
    "string[0] = 'O' # Will give error"
   ]
  },
  {
   "cell_type": "raw",
   "id": "0e0cb0b6",
   "metadata": {},
   "source": [
    "Remember, assigning a new value to string variable doesn’t mean that you’ve changed the value. Let’s verify it with the id() method below"
   ]
  },
  {
   "cell_type": "code",
   "execution_count": 30,
   "id": "76b93dcb",
   "metadata": {},
   "outputs": [
    {
     "name": "stdout",
     "output_type": "stream",
     "text": [
      "140666743018416\n",
      "140666694473072\n"
     ]
    }
   ],
   "source": [
    "str1 = \"hello\"\n",
    "print(id(str1))\n",
    "\n",
    "str1 = \"bye\"\n",
    "print(id(str1))"
   ]
  },
  {
   "cell_type": "code",
   "execution_count": 34,
   "id": "47165f29",
   "metadata": {},
   "outputs": [
    {
     "name": "stdout",
     "output_type": "stream",
     "text": [
      "This\n",
      "his is\n",
      "MY string!\n"
     ]
    }
   ],
   "source": [
    "my_string = \"This is MY string!\"\n",
    "print(my_string[0:4]) # From the start till before the 4th index\n",
    "print(my_string[1:7])\n",
    "print(my_string[8:len(my_string)]) # From the 8th index till the end"
   ]
  },
  {
   "cell_type": "code",
   "execution_count": 35,
   "id": "df854189",
   "metadata": {
    "scrolled": true
   },
   "outputs": [
    {
     "name": "stdout",
     "output_type": "stream",
     "text": [
      "This is\n",
      "Ti s\n",
      "Ti\n"
     ]
    }
   ],
   "source": [
    "my_string = \"This is MY string!\"\n",
    "print(my_string[0:7])  # A step of 1\n",
    "print(my_string[0:7:2])  # A step of 2\n",
    "print(my_string[0:7:5])  # A step of 5"
   ]
  },
  {
   "cell_type": "code",
   "execution_count": 38,
   "id": "37770621",
   "metadata": {},
   "outputs": [
    {
     "name": "stdout",
     "output_type": "stream",
     "text": [
      "18\n",
      "rts YM si s\n",
      "!nrsY ish\n"
     ]
    }
   ],
   "source": [
    "my_string = \"This is MY string!\"\n",
    "print(len(my_string))\n",
    "print(my_string[13:2:-1]) # Take 1 step back each time\n",
    "print(my_string[17:0:-2]) # Take 2 steps back. The opposite of what happens in the slide above"
   ]
  },
  {
   "cell_type": "code",
   "execution_count": 39,
   "id": "c38974e6",
   "metadata": {
    "scrolled": true
   },
   "outputs": [
    {
     "name": "stdout",
     "output_type": "stream",
     "text": [
      "This is \n",
      "MY string!\n",
      "This is MY string!\n",
      "!gnirts YM si sihT\n"
     ]
    }
   ],
   "source": [
    "my_string = \"This is MY string!\"\n",
    "print(my_string[:8])  # All the characters before 'M'\n",
    "print(my_string[8:])  # All the characters starting from 'M'\n",
    "print(my_string[:])  # The whole string\n",
    "print(my_string[::-1])  # The whole string in reverse (step is -1)"
   ]
  },
  {
   "cell_type": "code",
   "execution_count": null,
   "id": "0653822c",
   "metadata": {},
   "outputs": [],
   "source": []
  }
 ],
 "metadata": {
  "kernelspec": {
   "display_name": "Python 3 (ipykernel)",
   "language": "python",
   "name": "python3"
  },
  "language_info": {
   "codemirror_mode": {
    "name": "ipython",
    "version": 3
   },
   "file_extension": ".py",
   "mimetype": "text/x-python",
   "name": "python",
   "nbconvert_exporter": "python",
   "pygments_lexer": "ipython3",
   "version": "3.8.10"
  }
 },
 "nbformat": 4,
 "nbformat_minor": 5
}
