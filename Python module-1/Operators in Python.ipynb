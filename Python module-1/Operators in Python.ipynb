{
 "cells": [
  {
   "cell_type": "markdown",
   "id": "876861f7",
   "metadata": {},
   "source": [
    "### The 5 main operator types in Python are:\n",
    "\n",
    "- arithmetic operators\n",
    "\n",
    "- comparison operators\n",
    "\n",
    "- assignment operators\n",
    "\n",
    "- logical operators\n",
    "\n",
    "- bitwise operators"
   ]
  },
  {
   "cell_type": "markdown",
   "id": "bc83a318",
   "metadata": {},
   "source": [
    "# Arithmetic Operators"
   ]
  },
  {
   "cell_type": "code",
   "execution_count": 2,
   "id": "8d168a81",
   "metadata": {},
   "outputs": [
    {
     "name": "stdout",
     "output_type": "stream",
     "text": [
      "15\n",
      "17.05\n",
      "30.5\n",
      "3\n"
     ]
    }
   ],
   "source": [
    "print(10 + 5)\n",
    "\n",
    "float1 = 13.65\n",
    "float2 = 3.40\n",
    "print(float1 + float2)\n",
    "\n",
    "num = 20\n",
    "flt = 10.5\n",
    "print(num + flt)\n",
    "num1 = 10\n",
    "num2 = 3\n",
    "print(num1 // num2)"
   ]
  },
  {
   "cell_type": "code",
   "execution_count": 7,
   "id": "cc6d0dfc",
   "metadata": {},
   "outputs": [
    {
     "name": "stdout",
     "output_type": "stream",
     "text": [
      "5\n",
      "-22.228\n",
      "9.5\n"
     ]
    }
   ],
   "source": [
    "print(10 - 5)\n",
    "\n",
    "float1 = -18.678\n",
    "float2 = 3.55\n",
    "print(float1 - float2)\n",
    "\n",
    "num = 20\n",
    "flt = 10.5\n",
    "print(num - flt)"
   ]
  },
  {
   "cell_type": "code",
   "execution_count": 8,
   "id": "4be3b248",
   "metadata": {},
   "outputs": [
    {
     "name": "stdout",
     "output_type": "stream",
     "text": [
      "400\n",
      "24.75\n",
      "30.599999999999998\n"
     ]
    }
   ],
   "source": [
    "print(40 * 10)\n",
    "\n",
    "float1 = 5.5\n",
    "float2 = 4.5\n",
    "print(float1 * float2)\n",
    "\n",
    "print(10.2 * 3)"
   ]
  },
  {
   "cell_type": "code",
   "execution_count": 9,
   "id": "18b3642d",
   "metadata": {},
   "outputs": [
    {
     "name": "stdout",
     "output_type": "stream",
     "text": [
      "4.0\n",
      "1.2222222222222223\n",
      "6.2\n"
     ]
    }
   ],
   "source": [
    "print(40 / 10)\n",
    "\n",
    "float1 = 5.5\n",
    "float2 = 4.5\n",
    "print(float1 / float2)\n",
    "print(12.4 / 2)"
   ]
  },
  {
   "cell_type": "code",
   "execution_count": 10,
   "id": "e18aa450",
   "metadata": {},
   "outputs": [
    {
     "name": "stdout",
     "output_type": "stream",
     "text": [
      "4\n",
      "1.0\n",
      "6.0\n"
     ]
    }
   ],
   "source": [
    "print(43 // 10)\n",
    "\n",
    "float1 = 5.5\n",
    "float2 = 4.5\n",
    "print(5.5 // 4.5)\n",
    "print(12.4 // 2)\n"
   ]
  },
  {
   "cell_type": "code",
   "execution_count": 11,
   "id": "97a0a95c",
   "metadata": {},
   "outputs": [
    {
     "name": "stdout",
     "output_type": "stream",
     "text": [
      "0\n",
      "8\n",
      "2\n",
      "-2\n",
      "1.8999999999999986\n"
     ]
    }
   ],
   "source": [
    "print(10 % 2)\n",
    "\n",
    "twenty_eight = 28\n",
    "print(twenty_eight % 10)\n",
    "\n",
    "print(-28 % 10)  # The remainder is positive if the right-hand operand is positive\n",
    "print(28 % -10)  # The remainder is negative if the right-hand operand is negative\n",
    "print(34.4 % 2.5)  # The remainder can be a float"
   ]
  },
  {
   "cell_type": "code",
   "execution_count": 12,
   "id": "aae2d230",
   "metadata": {},
   "outputs": [
    {
     "name": "stdout",
     "output_type": "stream",
     "text": [
      "4\n",
      "12.0\n",
      "0.75\n"
     ]
    }
   ],
   "source": [
    "# Different precedence\n",
    "print(10 - 3 * 2)  # Multiplication computed first, followed by subtraction\n",
    "\n",
    "# Same precedence\n",
    "print(3 * 20 / 5)  # Multiplication computed first, followed by division\n",
    "print(3 / 20 * 5)  # Division computed first, followed by multiplication"
   ]
  },
  {
   "cell_type": "code",
   "execution_count": 13,
   "id": "d9c74f49",
   "metadata": {},
   "outputs": [
    {
     "name": "stdout",
     "output_type": "stream",
     "text": [
      "14\n",
      "10.0\n"
     ]
    }
   ],
   "source": [
    "print((10 - 3) * 2)  # Subtraction occurs first\n",
    "print((18 + 2) / (10 % 8))"
   ]
  },
  {
   "cell_type": "markdown",
   "id": "7b653ac1",
   "metadata": {},
   "source": [
    "# Comparison Operators"
   ]
  },
  {
   "cell_type": "code",
   "execution_count": 14,
   "id": "4712372d",
   "metadata": {},
   "outputs": [
    {
     "name": "stdout",
     "output_type": "stream",
     "text": [
      "True\n",
      "False\n",
      "True\n",
      "True\n",
      "False\n",
      "False\n",
      "False\n",
      "False\n"
     ]
    }
   ],
   "source": [
    "num1 = 5\n",
    "num2 = 10\n",
    "num3 = 10\n",
    "list1 = [6,7,8]\n",
    "list2 = [6,7,8]\n",
    "\n",
    "print(num2 > num1)  # 10 is greater than 5\n",
    "print(num1 > num2)  # 5 is not greater than 10\n",
    "\n",
    "print(num2 == num3)  # Both have the same value\n",
    "print(num3 != num1)  # Both have different values\n",
    "\n",
    "print(3 + 10 == 5 + 5)  # Both are not equal\n",
    "print(3 <= 2)  # 3 is not less than or equal to 2\n",
    "\n",
    "print(num2 is not num3)  # Both have the same object\n",
    "print(list1 is list2)  # Both have the different objects"
   ]
  },
  {
   "cell_type": "markdown",
   "id": "8cd6f27d",
   "metadata": {},
   "source": [
    "# Assignment Operators"
   ]
  },
  {
   "cell_type": "code",
   "execution_count": 15,
   "id": "96e7c7f0",
   "metadata": {},
   "outputs": [
    {
     "name": "stdout",
     "output_type": "stream",
     "text": [
      "2019\n",
      "2020\n",
      "2021\n"
     ]
    }
   ],
   "source": [
    "year = 2019\n",
    "print(year)\n",
    "\n",
    "year = 2020\n",
    "print(year)\n",
    "\n",
    "year = year + 1  # Using the existing value to create a new one\n",
    "print(year)"
   ]
  },
  {
   "cell_type": "code",
   "execution_count": 16,
   "id": "a83f0e65",
   "metadata": {},
   "outputs": [
    {
     "name": "stdout",
     "output_type": "stream",
     "text": [
      "35 20\n"
     ]
    }
   ],
   "source": [
    "first = 20\n",
    "second = first\n",
    "first = 35  # Updating 'first'\n",
    "\n",
    "print(first, second)  # 'second' remains unchanged"
   ]
  },
  {
   "cell_type": "code",
   "execution_count": 17,
   "id": "b8090422",
   "metadata": {},
   "outputs": [
    {
     "name": "stdout",
     "output_type": "stream",
     "text": [
      "10\n",
      "15\n",
      "10\n",
      "20\n",
      "10.0\n",
      "100.0\n"
     ]
    }
   ],
   "source": [
    "num = 10\n",
    "print(num)\n",
    "\n",
    "num += 5\n",
    "print(num)\n",
    "\n",
    "num -= 5\n",
    "print(num)\n",
    "\n",
    "num *= 2\n",
    "print(num)\n",
    "\n",
    "num /= 2\n",
    "print(num)\n",
    "\n",
    "num **= 2\n",
    "print(num)\n",
    "\n",
    "# Try all the others here!"
   ]
  },
  {
   "cell_type": "markdown",
   "id": "25eaa756",
   "metadata": {},
   "source": [
    "# Logical Operators"
   ]
  },
  {
   "cell_type": "code",
   "execution_count": 18,
   "id": "603ace35",
   "metadata": {},
   "outputs": [
    {
     "name": "stdout",
     "output_type": "stream",
     "text": [
      "True\n",
      "False\n",
      "True\n"
     ]
    }
   ],
   "source": [
    "# OR Expression\n",
    "my_bool = True or False\n",
    "print(my_bool)\n",
    "\n",
    "# AND Expression\n",
    "my_bool = True and False\n",
    "print(my_bool)\n",
    "\n",
    "# NOT expression\n",
    "my_bool = False\n",
    "print(not my_bool)"
   ]
  },
  {
   "cell_type": "code",
   "execution_count": 19,
   "id": "4f94b079",
   "metadata": {},
   "outputs": [
    {
     "name": "stdout",
     "output_type": "stream",
     "text": [
      "10\n"
     ]
    },
    {
     "ename": "TypeError",
     "evalue": "unsupported operand type(s) for +: 'int' and 'str'",
     "output_type": "error",
     "traceback": [
      "\u001b[0;31m---------------------------------------------------------------------------\u001b[0m",
      "\u001b[0;31mTypeError\u001b[0m                                 Traceback (most recent call last)",
      "Input \u001b[0;32mIn [19]\u001b[0m, in \u001b[0;36m<cell line: 2>\u001b[0;34m()\u001b[0m\n\u001b[1;32m      1\u001b[0m \u001b[38;5;28mprint\u001b[39m(\u001b[38;5;241m10\u001b[39m \u001b[38;5;241m*\u001b[39m \u001b[38;5;28;01mTrue\u001b[39;00m)\n\u001b[0;32m----> 2\u001b[0m \u001b[38;5;28mprint\u001b[39m(\u001b[38;5;241;43m10\u001b[39;49m\u001b[43m \u001b[49m\u001b[38;5;241;43m+\u001b[39;49m\u001b[43m \u001b[49m\u001b[38;5;124;43m\"\u001b[39;49m\u001b[38;5;124;43m23\u001b[39;49m\u001b[38;5;124;43m\"\u001b[39;49m)\n",
      "\u001b[0;31mTypeError\u001b[0m: unsupported operand type(s) for +: 'int' and 'str'"
     ]
    }
   ],
   "source": [
    "print(10 * True)\n",
    "print(10 + \"23\")"
   ]
  },
  {
   "cell_type": "markdown",
   "id": "285be8fb",
   "metadata": {},
   "source": [
    "# Bitwise Operators"
   ]
  },
  {
   "cell_type": "code",
   "execution_count": 20,
   "id": "5d5e8ca8",
   "metadata": {},
   "outputs": [
    {
     "name": "stdout",
     "output_type": "stream",
     "text": [
      "0\n",
      "30\n",
      "30\n",
      "-11\n",
      "80\n",
      "2\n"
     ]
    }
   ],
   "source": [
    "num1 = 10  # Binary value = 01010\n",
    "num2 = 20  # Binary Value = 10100\n",
    "\n",
    "print(num1 & num2)   # 0   -> Binary value = 00000\n",
    "print(num1 | num2)   # 30  -> Binary value = 11110\n",
    "print(num1 ^ num2)   # 30  -> Binary value = 11110\n",
    "print(~num1)         # -11 -> Binary value = -(1011)\n",
    "print(num1 << 3)     # 80  -> Binary value = 0101 0000\n",
    "print(num2 >> 3)     # 2   -> Binary value = 0010"
   ]
  },
  {
   "cell_type": "markdown",
   "id": "f7612a06",
   "metadata": {},
   "source": [
    "# String Operations"
   ]
  },
  {
   "cell_type": "code",
   "execution_count": 21,
   "id": "c9331c2d",
   "metadata": {},
   "outputs": [
    {
     "name": "stdout",
     "output_type": "stream",
     "text": [
      "True\n",
      "True\n",
      "False\n",
      "False\n",
      "True\n"
     ]
    }
   ],
   "source": [
    "print('a' < 'b')  # 'a' has a smaller Unicode value\n",
    "\n",
    "house = \"Gryffindor\"\n",
    "house_copy = \"Gryffindor\"\n",
    "\n",
    "print(house == house_copy)\n",
    "\n",
    "new_house = \"Slytherin\"\n",
    "\n",
    "print(house == new_house)\n",
    "\n",
    "print(new_house <= house)\n",
    "\n",
    "print(new_house >= house)"
   ]
  },
  {
   "cell_type": "code",
   "execution_count": 22,
   "id": "a7c45c3f",
   "metadata": {},
   "outputs": [
    {
     "name": "stdout",
     "output_type": "stream",
     "text": [
      "Batman\n"
     ]
    }
   ],
   "source": [
    "first_half = \"Bat\"\n",
    "second_half = \"man\"\n",
    "\n",
    "full_name = first_half + second_half\n",
    "print(full_name)"
   ]
  },
  {
   "cell_type": "code",
   "execution_count": 23,
   "id": "bec72d62",
   "metadata": {},
   "outputs": [
    {
     "name": "stdout",
     "output_type": "stream",
     "text": [
      "hahaha\n"
     ]
    }
   ],
   "source": [
    "print(\"ha\" * 3)"
   ]
  },
  {
   "cell_type": "code",
   "execution_count": 24,
   "id": "fac4e4f8",
   "metadata": {},
   "outputs": [
    {
     "name": "stdout",
     "output_type": "stream",
     "text": [
      "False\n",
      "True\n"
     ]
    }
   ],
   "source": [
    "random_string = \"This is a random string\"\n",
    "\n",
    "print('of' in random_string)  # Check whether 'of' exists in randomString\n",
    "print('random' in random_string)  # 'random' exists!"
   ]
  },
  {
   "cell_type": "markdown",
   "id": "2e92e988",
   "metadata": {},
   "source": [
    "# Grouping Values"
   ]
  },
  {
   "cell_type": "code",
   "execution_count": 25,
   "id": "50312497",
   "metadata": {},
   "outputs": [
    {
     "name": "stdout",
     "output_type": "stream",
     "text": [
      "[1, 2.5, 'A string', True]\n"
     ]
    }
   ],
   "source": [
    "my_list = [1, 2.5, \"A string\", True]\n",
    "print(my_list)"
   ]
  },
  {
   "cell_type": "code",
   "execution_count": 26,
   "id": "16026686",
   "metadata": {},
   "outputs": [
    {
     "name": "stdout",
     "output_type": "stream",
     "text": [
      "A string\n",
      "4\n"
     ]
    }
   ],
   "source": [
    "my_list = [1, 2.5, \"A string\", True]\n",
    "print(my_list[2])\n",
    "print(len(my_list))"
   ]
  },
  {
   "cell_type": "markdown",
   "id": "c0a68657",
   "metadata": {},
   "source": [
    "# Practice"
   ]
  },
  {
   "cell_type": "code",
   "execution_count": 27,
   "id": "736afbc2",
   "metadata": {},
   "outputs": [
    {
     "name": "stdout",
     "output_type": "stream",
     "text": [
      "86\n"
     ]
    }
   ],
   "source": [
    "my_string = \"0123456789\"\n",
    "print(my_string[-2: -6: -2])"
   ]
  },
  {
   "cell_type": "code",
   "execution_count": 33,
   "id": "a3744366",
   "metadata": {},
   "outputs": [
    {
     "name": "stdout",
     "output_type": "stream",
     "text": [
      "21\n",
      "4\n",
      "5.25\n"
     ]
    }
   ],
   "source": [
    "x = 20\n",
    "y = 5\n",
    "result = (x + True) / (4 - y * False)\n",
    "print(x + True)\n",
    "print(4 - y * False)\n",
    "print(result)"
   ]
  },
  {
   "cell_type": "markdown",
   "id": "39ec7787",
   "metadata": {},
   "source": [
    "#### Python Operators Precedence Rule – PEMDAS\n",
    "- You might have heard about the BODMAS rule in your school’s mathematics class. Python also uses a similar type of rule known as PEMDAS.\n",
    "\n",
    "- P – Parentheses\n",
    "- E – Exponentiation\n",
    "- M – Multiplication\n",
    "- D – Division\n",
    "- A – Addition\n",
    "- S – Subtraction"
   ]
  },
  {
   "cell_type": "markdown",
   "id": "523edb92",
   "metadata": {},
   "source": [
    "# Exercise: Gravitational Force\n",
    "\n",
    "## Problem Statement\n",
    "- Gravitational force is the attractive force that exists between two masses. It can be calculated by using the following formula:\n",
    "\n",
    "* GMm/r*r\n",
    " \n",
    "\n",
    "- where G is the gravitational constant, M and m are the two masses, and r is the distance between them.\n",
    "\n",
    "- You must implement this equation in Python to calculate the gravitational force between Earth and the moon.\n",
    "\n",
    "## Sample Input\n",
    "- G = 6.67 * 10-11\n",
    "\n",
    "- MEarth = 6.0 * 1024\n",
    "\n",
    "- mMoon = 7.34 * 1022\n",
    "\n",
    "- r = 3.84 * 108\n",
    "\n",
    "## Sample Output\n",
    "- FG = 1.99 * 1020\n",
    "\n",
    "## Coding Challenge\n",
    "- All the values have already been given to you. You must write the formula in Pythonic syntax and store the answer in the grav_force variable.\n",
    "\n",
    "- If you feel stuck, refer to the solution review in the next lesson.\n",
    "\n",
    "- Good luck!"
   ]
  },
  {
   "cell_type": "code",
   "execution_count": 36,
   "id": "421ed55e",
   "metadata": {},
   "outputs": [
    {
     "name": "stdout",
     "output_type": "stream",
     "text": [
      "1.9920979817708333e+20\n"
     ]
    }
   ],
   "source": [
    "G = 6.67 * (10 ** -11)\n",
    "M = 6.0 * (10 ** 24)  # Mass of Earth\n",
    "m = 7.34 * (10 ** 22)  # Mass of the moon\n",
    "r = 3.84 * (10 ** 8)\n",
    "\n",
    "grav_force = (G * M * m) / (r ** 2)\n",
    "print(grav_force)"
   ]
  },
  {
   "cell_type": "code",
   "execution_count": null,
   "id": "484e98fb",
   "metadata": {},
   "outputs": [],
   "source": []
  }
 ],
 "metadata": {
  "kernelspec": {
   "display_name": "Python 3 (ipykernel)",
   "language": "python",
   "name": "python3"
  },
  "language_info": {
   "codemirror_mode": {
    "name": "ipython",
    "version": 3
   },
   "file_extension": ".py",
   "mimetype": "text/x-python",
   "name": "python",
   "nbconvert_exporter": "python",
   "pygments_lexer": "ipython3",
   "version": "3.8.10"
  }
 },
 "nbformat": 4,
 "nbformat_minor": 5
}
